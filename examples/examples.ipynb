{
 "cells": [
  {
   "cell_type": "markdown",
   "metadata": {},
   "source": [
    "# Install Sports Scraper"
   ]
  },
  {
   "cell_type": "code",
   "execution_count": null,
   "metadata": {},
   "outputs": [],
   "source": [
    "!pip install sport_scraper"
   ]
  },
  {
   "cell_type": "markdown",
   "metadata": {},
   "source": [
    "# Quick Start\n",
    "Import library and instantiate SportScraper object"
   ]
  },
  {
   "cell_type": "code",
   "execution_count": 1,
   "metadata": {},
   "outputs": [
    {
     "ename": "ImportError",
     "evalue": "cannot import name 'sportScraper' from 'sport_scraper.base' (/opt/anaconda3/lib/python3.7/site-packages/sport_scraper/base/__init__.py)",
     "output_type": "error",
     "traceback": [
      "\u001b[0;31m---------------------------------------------------------------------------\u001b[0m",
      "\u001b[0;31mImportError\u001b[0m                               Traceback (most recent call last)",
      "\u001b[0;32m<ipython-input-1-cc2cee1e5094>\u001b[0m in \u001b[0;36m<module>\u001b[0;34m\u001b[0m\n\u001b[0;32m----> 1\u001b[0;31m \u001b[0;32mfrom\u001b[0m \u001b[0msport_scraper\u001b[0m \u001b[0;32mimport\u001b[0m \u001b[0mSportScraper\u001b[0m\u001b[0;34m\u001b[0m\u001b[0;34m\u001b[0m\u001b[0m\n\u001b[0m\u001b[1;32m      2\u001b[0m \u001b[0mespn\u001b[0m \u001b[0;34m=\u001b[0m \u001b[0mSportScraper\u001b[0m\u001b[0;34m(\u001b[0m\u001b[0;34m)\u001b[0m\u001b[0;34m\u001b[0m\u001b[0;34m\u001b[0m\u001b[0m\n",
      "\u001b[0;32m/opt/anaconda3/lib/python3.7/site-packages/sport_scraper/__init__.py\u001b[0m in \u001b[0;36m<module>\u001b[0;34m\u001b[0m\n\u001b[1;32m      8\u001b[0m \u001b[0;34m\u001b[0m\u001b[0m\n\u001b[1;32m      9\u001b[0m \u001b[0;31m# Declare top-level shortcuts\u001b[0m\u001b[0;34m\u001b[0m\u001b[0;34m\u001b[0m\u001b[0;34m\u001b[0m\u001b[0m\n\u001b[0;32m---> 10\u001b[0;31m \u001b[0;32mfrom\u001b[0m \u001b[0msport_scraper\u001b[0m\u001b[0;34m.\u001b[0m\u001b[0mbase\u001b[0m \u001b[0;32mimport\u001b[0m \u001b[0msportScraper\u001b[0m\u001b[0;34m\u001b[0m\u001b[0;34m\u001b[0m\u001b[0m\n\u001b[0m\u001b[1;32m     11\u001b[0m \u001b[0;34m\u001b[0m\u001b[0m\n\u001b[1;32m     12\u001b[0m \u001b[0;34m\u001b[0m\u001b[0m\n",
      "\u001b[0;31mImportError\u001b[0m: cannot import name 'sportScraper' from 'sport_scraper.base' (/opt/anaconda3/lib/python3.7/site-packages/sport_scraper/base/__init__.py)"
     ]
    }
   ],
   "source": [
    "from sport_scraper import SportScraper\n",
    "espn = SportScraper()"
   ]
  },
  {
   "cell_type": "markdown",
   "metadata": {},
   "source": [
    "Generate a list of leagues available."
   ]
  },
  {
   "cell_type": "code",
   "execution_count": 5,
   "metadata": {},
   "outputs": [
    {
     "data": {
      "text/plain": [
       "['nfl',\n",
       " 'mlb',\n",
       " 'nba',\n",
       " 'nhl',\n",
       " 'college-football',\n",
       " 'mens-college-basketball',\n",
       " 'golf',\n",
       " 'racing',\n",
       " 'xgames']"
      ]
     },
     "execution_count": 5,
     "metadata": {},
     "output_type": "execute_result"
    }
   ],
   "source": [
    "espn.leagues()"
   ]
  },
  {
   "cell_type": "markdown",
   "metadata": {},
   "source": [
    "Generate a dataframe of teams for a given league"
   ]
  },
  {
   "cell_type": "code",
   "execution_count": 6,
   "metadata": {
    "scrolled": true
   },
   "outputs": [
    {
     "data": {
      "text/html": [
       "<style  type=\"text/css\" >\n",
       "</style><table id=\"T_a71de6bc_21de_11eb_aed1_acde48001122\" ><thead>    <tr>        <th class=\"col_heading level0 col0\" >team</th>        <th class=\"col_heading level0 col1\" >url</th>        <th class=\"col_heading level0 col2\" >prefix_2</th>        <th class=\"col_heading level0 col3\" >prefix_1</th>        <th class=\"col_heading level0 col4\" >league</th>        <th class=\"col_heading level0 col5\" >division</th>    </tr></thead><tbody>\n",
       "                <tr>\n",
       "                                <td id=\"T_a71de6bc_21de_11eb_aed1_acde48001122row0_col0\" class=\"data row0 col0\" >Cincinnati Bearcats</td>\n",
       "                        <td id=\"T_a71de6bc_21de_11eb_aed1_acde48001122row0_col1\" class=\"data row0 col1\" >http://www.espn.com/college-football/team/_/id/2132/cincinnati-bearcats</td>\n",
       "                        <td id=\"T_a71de6bc_21de_11eb_aed1_acde48001122row0_col2\" class=\"data row0 col2\" >cincinnati-bearcats</td>\n",
       "                        <td id=\"T_a71de6bc_21de_11eb_aed1_acde48001122row0_col3\" class=\"data row0 col3\" >2132</td>\n",
       "                        <td id=\"T_a71de6bc_21de_11eb_aed1_acde48001122row0_col4\" class=\"data row0 col4\" >college-football</td>\n",
       "                        <td id=\"T_a71de6bc_21de_11eb_aed1_acde48001122row0_col5\" class=\"data row0 col5\" >American</td>\n",
       "            </tr>\n",
       "            <tr>\n",
       "                                <td id=\"T_a71de6bc_21de_11eb_aed1_acde48001122row1_col0\" class=\"data row1 col0\" >East Carolina Pirates</td>\n",
       "                        <td id=\"T_a71de6bc_21de_11eb_aed1_acde48001122row1_col1\" class=\"data row1 col1\" >http://www.espn.com/college-football/team/_/id/151/east-carolina-pirates</td>\n",
       "                        <td id=\"T_a71de6bc_21de_11eb_aed1_acde48001122row1_col2\" class=\"data row1 col2\" >east-carolina-pirates</td>\n",
       "                        <td id=\"T_a71de6bc_21de_11eb_aed1_acde48001122row1_col3\" class=\"data row1 col3\" >151</td>\n",
       "                        <td id=\"T_a71de6bc_21de_11eb_aed1_acde48001122row1_col4\" class=\"data row1 col4\" >college-football</td>\n",
       "                        <td id=\"T_a71de6bc_21de_11eb_aed1_acde48001122row1_col5\" class=\"data row1 col5\" >American</td>\n",
       "            </tr>\n",
       "            <tr>\n",
       "                                <td id=\"T_a71de6bc_21de_11eb_aed1_acde48001122row2_col0\" class=\"data row2 col0\" >Houston Cougars</td>\n",
       "                        <td id=\"T_a71de6bc_21de_11eb_aed1_acde48001122row2_col1\" class=\"data row2 col1\" >http://www.espn.com/college-football/team/_/id/248/houston-cougars</td>\n",
       "                        <td id=\"T_a71de6bc_21de_11eb_aed1_acde48001122row2_col2\" class=\"data row2 col2\" >houston-cougars</td>\n",
       "                        <td id=\"T_a71de6bc_21de_11eb_aed1_acde48001122row2_col3\" class=\"data row2 col3\" >248</td>\n",
       "                        <td id=\"T_a71de6bc_21de_11eb_aed1_acde48001122row2_col4\" class=\"data row2 col4\" >college-football</td>\n",
       "                        <td id=\"T_a71de6bc_21de_11eb_aed1_acde48001122row2_col5\" class=\"data row2 col5\" >American</td>\n",
       "            </tr>\n",
       "            <tr>\n",
       "                                <td id=\"T_a71de6bc_21de_11eb_aed1_acde48001122row3_col0\" class=\"data row3 col0\" >Memphis Tigers</td>\n",
       "                        <td id=\"T_a71de6bc_21de_11eb_aed1_acde48001122row3_col1\" class=\"data row3 col1\" >http://www.espn.com/college-football/team/_/id/235/memphis-tigers</td>\n",
       "                        <td id=\"T_a71de6bc_21de_11eb_aed1_acde48001122row3_col2\" class=\"data row3 col2\" >memphis-tigers</td>\n",
       "                        <td id=\"T_a71de6bc_21de_11eb_aed1_acde48001122row3_col3\" class=\"data row3 col3\" >235</td>\n",
       "                        <td id=\"T_a71de6bc_21de_11eb_aed1_acde48001122row3_col4\" class=\"data row3 col4\" >college-football</td>\n",
       "                        <td id=\"T_a71de6bc_21de_11eb_aed1_acde48001122row3_col5\" class=\"data row3 col5\" >American</td>\n",
       "            </tr>\n",
       "            <tr>\n",
       "                                <td id=\"T_a71de6bc_21de_11eb_aed1_acde48001122row4_col0\" class=\"data row4 col0\" >Navy Midshipmen</td>\n",
       "                        <td id=\"T_a71de6bc_21de_11eb_aed1_acde48001122row4_col1\" class=\"data row4 col1\" >http://www.espn.com/college-football/team/_/id/2426/navy-midshipmen</td>\n",
       "                        <td id=\"T_a71de6bc_21de_11eb_aed1_acde48001122row4_col2\" class=\"data row4 col2\" >navy-midshipmen</td>\n",
       "                        <td id=\"T_a71de6bc_21de_11eb_aed1_acde48001122row4_col3\" class=\"data row4 col3\" >2426</td>\n",
       "                        <td id=\"T_a71de6bc_21de_11eb_aed1_acde48001122row4_col4\" class=\"data row4 col4\" >college-football</td>\n",
       "                        <td id=\"T_a71de6bc_21de_11eb_aed1_acde48001122row4_col5\" class=\"data row4 col5\" >American</td>\n",
       "            </tr>\n",
       "    </tbody></table>"
      ],
      "text/plain": [
       "<pandas.io.formats.style.Styler at 0x7fbc603521d0>"
      ]
     },
     "execution_count": 6,
     "metadata": {},
     "output_type": "execute_result"
    }
   ],
   "source": [
    "espn.teams('college-football').head().style.hide_index()"
   ]
  },
  {
   "cell_type": "code",
   "execution_count": 21,
   "metadata": {},
   "outputs": [
    {
     "data": {
      "text/html": [
       "<style  type=\"text/css\" >\n",
       "</style><table id=\"T_b32d5f4c_21dd_11eb_a126_acde48001122\" ><thead>    <tr>        <th class=\"col_heading level0 col0\" >team</th>        <th class=\"col_heading level0 col1\" >url</th>        <th class=\"col_heading level0 col2\" >prefix_2</th>        <th class=\"col_heading level0 col3\" >prefix_1</th>        <th class=\"col_heading level0 col4\" >league</th>        <th class=\"col_heading level0 col5\" >division</th>    </tr></thead><tbody>\n",
       "                <tr>\n",
       "                                <td id=\"T_b32d5f4c_21dd_11eb_a126_acde48001122row0_col0\" class=\"data row0 col0\" >Boston Celtics</td>\n",
       "                        <td id=\"T_b32d5f4c_21dd_11eb_a126_acde48001122row0_col1\" class=\"data row0 col1\" >http://www.espn.com/nba/team/_/name/bos/boston-celtics</td>\n",
       "                        <td id=\"T_b32d5f4c_21dd_11eb_a126_acde48001122row0_col2\" class=\"data row0 col2\" >boston-celtics</td>\n",
       "                        <td id=\"T_b32d5f4c_21dd_11eb_a126_acde48001122row0_col3\" class=\"data row0 col3\" >bos</td>\n",
       "                        <td id=\"T_b32d5f4c_21dd_11eb_a126_acde48001122row0_col4\" class=\"data row0 col4\" >nba</td>\n",
       "                        <td id=\"T_b32d5f4c_21dd_11eb_a126_acde48001122row0_col5\" class=\"data row0 col5\" >Atlantic</td>\n",
       "            </tr>\n",
       "            <tr>\n",
       "                                <td id=\"T_b32d5f4c_21dd_11eb_a126_acde48001122row1_col0\" class=\"data row1 col0\" >Brooklyn Nets</td>\n",
       "                        <td id=\"T_b32d5f4c_21dd_11eb_a126_acde48001122row1_col1\" class=\"data row1 col1\" >http://www.espn.com/nba/team/_/name/bkn/brooklyn-nets</td>\n",
       "                        <td id=\"T_b32d5f4c_21dd_11eb_a126_acde48001122row1_col2\" class=\"data row1 col2\" >brooklyn-nets</td>\n",
       "                        <td id=\"T_b32d5f4c_21dd_11eb_a126_acde48001122row1_col3\" class=\"data row1 col3\" >bkn</td>\n",
       "                        <td id=\"T_b32d5f4c_21dd_11eb_a126_acde48001122row1_col4\" class=\"data row1 col4\" >nba</td>\n",
       "                        <td id=\"T_b32d5f4c_21dd_11eb_a126_acde48001122row1_col5\" class=\"data row1 col5\" >Atlantic</td>\n",
       "            </tr>\n",
       "            <tr>\n",
       "                                <td id=\"T_b32d5f4c_21dd_11eb_a126_acde48001122row2_col0\" class=\"data row2 col0\" >New York Knicks</td>\n",
       "                        <td id=\"T_b32d5f4c_21dd_11eb_a126_acde48001122row2_col1\" class=\"data row2 col1\" >http://www.espn.com/nba/team/_/name/ny/new-york-knicks</td>\n",
       "                        <td id=\"T_b32d5f4c_21dd_11eb_a126_acde48001122row2_col2\" class=\"data row2 col2\" >new-york-knicks</td>\n",
       "                        <td id=\"T_b32d5f4c_21dd_11eb_a126_acde48001122row2_col3\" class=\"data row2 col3\" >ny</td>\n",
       "                        <td id=\"T_b32d5f4c_21dd_11eb_a126_acde48001122row2_col4\" class=\"data row2 col4\" >nba</td>\n",
       "                        <td id=\"T_b32d5f4c_21dd_11eb_a126_acde48001122row2_col5\" class=\"data row2 col5\" >Atlantic</td>\n",
       "            </tr>\n",
       "            <tr>\n",
       "                                <td id=\"T_b32d5f4c_21dd_11eb_a126_acde48001122row3_col0\" class=\"data row3 col0\" >Philadelphia 76ers</td>\n",
       "                        <td id=\"T_b32d5f4c_21dd_11eb_a126_acde48001122row3_col1\" class=\"data row3 col1\" >http://www.espn.com/nba/team/_/name/phi/philadelphia-76ers</td>\n",
       "                        <td id=\"T_b32d5f4c_21dd_11eb_a126_acde48001122row3_col2\" class=\"data row3 col2\" >philadelphia-76ers</td>\n",
       "                        <td id=\"T_b32d5f4c_21dd_11eb_a126_acde48001122row3_col3\" class=\"data row3 col3\" >phi</td>\n",
       "                        <td id=\"T_b32d5f4c_21dd_11eb_a126_acde48001122row3_col4\" class=\"data row3 col4\" >nba</td>\n",
       "                        <td id=\"T_b32d5f4c_21dd_11eb_a126_acde48001122row3_col5\" class=\"data row3 col5\" >Atlantic</td>\n",
       "            </tr>\n",
       "            <tr>\n",
       "                                <td id=\"T_b32d5f4c_21dd_11eb_a126_acde48001122row4_col0\" class=\"data row4 col0\" >Toronto Raptors</td>\n",
       "                        <td id=\"T_b32d5f4c_21dd_11eb_a126_acde48001122row4_col1\" class=\"data row4 col1\" >http://www.espn.com/nba/team/_/name/tor/toronto-raptors</td>\n",
       "                        <td id=\"T_b32d5f4c_21dd_11eb_a126_acde48001122row4_col2\" class=\"data row4 col2\" >toronto-raptors</td>\n",
       "                        <td id=\"T_b32d5f4c_21dd_11eb_a126_acde48001122row4_col3\" class=\"data row4 col3\" >tor</td>\n",
       "                        <td id=\"T_b32d5f4c_21dd_11eb_a126_acde48001122row4_col4\" class=\"data row4 col4\" >nba</td>\n",
       "                        <td id=\"T_b32d5f4c_21dd_11eb_a126_acde48001122row4_col5\" class=\"data row4 col5\" >Atlantic</td>\n",
       "            </tr>\n",
       "    </tbody></table>"
      ],
      "text/plain": [
       "<pandas.io.formats.style.Styler at 0x7fc242a15910>"
      ]
     },
     "execution_count": 21,
     "metadata": {},
     "output_type": "execute_result"
    }
   ],
   "source": [
    "espn.teams('nba').head().style.hide_index()"
   ]
  },
  {
   "cell_type": "markdown",
   "metadata": {},
   "source": [
    "Generate a schedule of games for a given league, team, and year"
   ]
  },
  {
   "cell_type": "code",
   "execution_count": 11,
   "metadata": {
    "scrolled": false
   },
   "outputs": [
    {
     "data": {
      "text/html": [
       "<style  type=\"text/css\" >\n",
       "</style><table id=\"T_bdf1e79e_21de_11eb_aed1_acde48001122\" ><thead>    <tr>        <th class=\"col_heading level0 col0\" >away_team</th>        <th class=\"col_heading level0 col1\" >away_team_score</th>        <th class=\"col_heading level0 col2\" >date</th>        <th class=\"col_heading level0 col3\" >game_id</th>        <th class=\"col_heading level0 col4\" >home_team</th>        <th class=\"col_heading level0 col5\" >home_team_score</th>        <th class=\"col_heading level0 col6\" >note</th>        <th class=\"col_heading level0 col7\" >season</th>        <th class=\"col_heading level0 col8\" >year</th>    </tr></thead><tbody>\n",
       "                <tr>\n",
       "                                <td id=\"T_bdf1e79e_21de_11eb_aed1_acde48001122row0_col0\" class=\"data row0 col0\" >26</td>\n",
       "                        <td id=\"T_bdf1e79e_21de_11eb_aed1_acde48001122row0_col1\" class=\"data row0 col1\" >14</td>\n",
       "                        <td id=\"T_bdf1e79e_21de_11eb_aed1_acde48001122row0_col2\" class=\"data row0 col2\" >Thu, Aug 29</td>\n",
       "                        <td id=\"T_bdf1e79e_21de_11eb_aed1_acde48001122row0_col3\" class=\"data row0 col3\" >401117854</td>\n",
       "                        <td id=\"T_bdf1e79e_21de_11eb_aed1_acde48001122row0_col4\" class=\"data row0 col4\" >2132</td>\n",
       "                        <td id=\"T_bdf1e79e_21de_11eb_aed1_acde48001122row0_col5\" class=\"data row0 col5\" >24</td>\n",
       "                        <td id=\"T_bdf1e79e_21de_11eb_aed1_acde48001122row0_col6\" class=\"data row0 col6\" ></td>\n",
       "                        <td id=\"T_bdf1e79e_21de_11eb_aed1_acde48001122row0_col7\" class=\"data row0 col7\" >Regular Season</td>\n",
       "                        <td id=\"T_bdf1e79e_21de_11eb_aed1_acde48001122row0_col8\" class=\"data row0 col8\" >2019</td>\n",
       "            </tr>\n",
       "            <tr>\n",
       "                                <td id=\"T_bdf1e79e_21de_11eb_aed1_acde48001122row1_col0\" class=\"data row1 col0\" >2132</td>\n",
       "                        <td id=\"T_bdf1e79e_21de_11eb_aed1_acde48001122row1_col1\" class=\"data row1 col1\" >0</td>\n",
       "                        <td id=\"T_bdf1e79e_21de_11eb_aed1_acde48001122row1_col2\" class=\"data row1 col2\" >Sat, Sep 7</td>\n",
       "                        <td id=\"T_bdf1e79e_21de_11eb_aed1_acde48001122row1_col3\" class=\"data row1 col3\" >401112252</td>\n",
       "                        <td id=\"T_bdf1e79e_21de_11eb_aed1_acde48001122row1_col4\" class=\"data row1 col4\" >194</td>\n",
       "                        <td id=\"T_bdf1e79e_21de_11eb_aed1_acde48001122row1_col5\" class=\"data row1 col5\" >42</td>\n",
       "                        <td id=\"T_bdf1e79e_21de_11eb_aed1_acde48001122row1_col6\" class=\"data row1 col6\" ></td>\n",
       "                        <td id=\"T_bdf1e79e_21de_11eb_aed1_acde48001122row1_col7\" class=\"data row1 col7\" >Regular Season</td>\n",
       "                        <td id=\"T_bdf1e79e_21de_11eb_aed1_acde48001122row1_col8\" class=\"data row1 col8\" >2019</td>\n",
       "            </tr>\n",
       "            <tr>\n",
       "                                <td id=\"T_bdf1e79e_21de_11eb_aed1_acde48001122row2_col0\" class=\"data row2 col0\" >193</td>\n",
       "                        <td id=\"T_bdf1e79e_21de_11eb_aed1_acde48001122row2_col1\" class=\"data row2 col1\" >13</td>\n",
       "                        <td id=\"T_bdf1e79e_21de_11eb_aed1_acde48001122row2_col2\" class=\"data row2 col2\" >Sat, Sep 14</td>\n",
       "                        <td id=\"T_bdf1e79e_21de_11eb_aed1_acde48001122row2_col3\" class=\"data row2 col3\" >401117863</td>\n",
       "                        <td id=\"T_bdf1e79e_21de_11eb_aed1_acde48001122row2_col4\" class=\"data row2 col4\" >2132</td>\n",
       "                        <td id=\"T_bdf1e79e_21de_11eb_aed1_acde48001122row2_col5\" class=\"data row2 col5\" >35</td>\n",
       "                        <td id=\"T_bdf1e79e_21de_11eb_aed1_acde48001122row2_col6\" class=\"data row2 col6\" ></td>\n",
       "                        <td id=\"T_bdf1e79e_21de_11eb_aed1_acde48001122row2_col7\" class=\"data row2 col7\" >Regular Season</td>\n",
       "                        <td id=\"T_bdf1e79e_21de_11eb_aed1_acde48001122row2_col8\" class=\"data row2 col8\" >2019</td>\n",
       "            </tr>\n",
       "            <tr>\n",
       "                                <td id=\"T_bdf1e79e_21de_11eb_aed1_acde48001122row3_col0\" class=\"data row3 col0\" >2132</td>\n",
       "                        <td id=\"T_bdf1e79e_21de_11eb_aed1_acde48001122row3_col1\" class=\"data row3 col1\" >52</td>\n",
       "                        <td id=\"T_bdf1e79e_21de_11eb_aed1_acde48001122row3_col2\" class=\"data row3 col2\" >Sat, Sep 28</td>\n",
       "                        <td id=\"T_bdf1e79e_21de_11eb_aed1_acde48001122row3_col3\" class=\"data row3 col3\" >401114269</td>\n",
       "                        <td id=\"T_bdf1e79e_21de_11eb_aed1_acde48001122row3_col4\" class=\"data row3 col4\" >276</td>\n",
       "                        <td id=\"T_bdf1e79e_21de_11eb_aed1_acde48001122row3_col5\" class=\"data row3 col5\" >14</td>\n",
       "                        <td id=\"T_bdf1e79e_21de_11eb_aed1_acde48001122row3_col6\" class=\"data row3 col6\" ></td>\n",
       "                        <td id=\"T_bdf1e79e_21de_11eb_aed1_acde48001122row3_col7\" class=\"data row3 col7\" >Regular Season</td>\n",
       "                        <td id=\"T_bdf1e79e_21de_11eb_aed1_acde48001122row3_col8\" class=\"data row3 col8\" >2019</td>\n",
       "            </tr>\n",
       "            <tr>\n",
       "                                <td id=\"T_bdf1e79e_21de_11eb_aed1_acde48001122row4_col0\" class=\"data row4 col0\" >2116</td>\n",
       "                        <td id=\"T_bdf1e79e_21de_11eb_aed1_acde48001122row4_col1\" class=\"data row4 col1\" >24</td>\n",
       "                        <td id=\"T_bdf1e79e_21de_11eb_aed1_acde48001122row4_col2\" class=\"data row4 col2\" >Fri, Oct 4</td>\n",
       "                        <td id=\"T_bdf1e79e_21de_11eb_aed1_acde48001122row4_col3\" class=\"data row4 col3\" >401117875</td>\n",
       "                        <td id=\"T_bdf1e79e_21de_11eb_aed1_acde48001122row4_col4\" class=\"data row4 col4\" >2132</td>\n",
       "                        <td id=\"T_bdf1e79e_21de_11eb_aed1_acde48001122row4_col5\" class=\"data row4 col5\" >27</td>\n",
       "                        <td id=\"T_bdf1e79e_21de_11eb_aed1_acde48001122row4_col6\" class=\"data row4 col6\" ></td>\n",
       "                        <td id=\"T_bdf1e79e_21de_11eb_aed1_acde48001122row4_col7\" class=\"data row4 col7\" >Regular Season</td>\n",
       "                        <td id=\"T_bdf1e79e_21de_11eb_aed1_acde48001122row4_col8\" class=\"data row4 col8\" >2019</td>\n",
       "            </tr>\n",
       "    </tbody></table>"
      ],
      "text/plain": [
       "<pandas.io.formats.style.Styler at 0x7fbc6080e850>"
      ]
     },
     "execution_count": 11,
     "metadata": {},
     "output_type": "execute_result"
    }
   ],
   "source": [
    "espn.schedule('college-football','2132','2019').head().style.hide_index()"
   ]
  },
  {
   "cell_type": "code",
   "execution_count": 10,
   "metadata": {},
   "outputs": [
    {
     "data": {
      "text/html": [
       "<style  type=\"text/css\" >\n",
       "</style><table id=\"T_bacbb662_21de_11eb_aed1_acde48001122\" ><thead>    <tr>        <th class=\"col_heading level0 col0\" >away_team</th>        <th class=\"col_heading level0 col1\" >away_team_score</th>        <th class=\"col_heading level0 col2\" >date</th>        <th class=\"col_heading level0 col3\" >game_id</th>        <th class=\"col_heading level0 col4\" >home_team</th>        <th class=\"col_heading level0 col5\" >home_team_score</th>        <th class=\"col_heading level0 col6\" >note</th>        <th class=\"col_heading level0 col7\" >season</th>        <th class=\"col_heading level0 col8\" >year</th>    </tr></thead><tbody>\n",
       "                <tr>\n",
       "                                <td id=\"T_bacbb662_21de_11eb_aed1_acde48001122row0_col0\" class=\"data row0 col0\" >bos</td>\n",
       "                        <td id=\"T_bacbb662_21de_11eb_aed1_acde48001122row0_col1\" class=\"data row0 col1\" >97</td>\n",
       "                        <td id=\"T_bacbb662_21de_11eb_aed1_acde48001122row0_col2\" class=\"data row0 col2\" >Fri, Sep 28</td>\n",
       "                        <td id=\"T_bacbb662_21de_11eb_aed1_acde48001122row0_col3\" class=\"data row0 col3\" >401077234</td>\n",
       "                        <td id=\"T_bacbb662_21de_11eb_aed1_acde48001122row0_col4\" class=\"data row0 col4\" >cha</td>\n",
       "                        <td id=\"T_bacbb662_21de_11eb_aed1_acde48001122row0_col5\" class=\"data row0 col5\" >104</td>\n",
       "                        <td id=\"T_bacbb662_21de_11eb_aed1_acde48001122row0_col6\" class=\"data row0 col6\" ></td>\n",
       "                        <td id=\"T_bacbb662_21de_11eb_aed1_acde48001122row0_col7\" class=\"data row0 col7\" >Preseason</td>\n",
       "                        <td id=\"T_bacbb662_21de_11eb_aed1_acde48001122row0_col8\" class=\"data row0 col8\" >2019</td>\n",
       "            </tr>\n",
       "            <tr>\n",
       "                                <td id=\"T_bacbb662_21de_11eb_aed1_acde48001122row1_col0\" class=\"data row1 col0\" >cha</td>\n",
       "                        <td id=\"T_bacbb662_21de_11eb_aed1_acde48001122row1_col1\" class=\"data row1 col1\" >112</td>\n",
       "                        <td id=\"T_bacbb662_21de_11eb_aed1_acde48001122row1_col2\" class=\"data row1 col2\" >Sun, Sep 30</td>\n",
       "                        <td id=\"T_bacbb662_21de_11eb_aed1_acde48001122row1_col3\" class=\"data row1 col3\" >401077240</td>\n",
       "                        <td id=\"T_bacbb662_21de_11eb_aed1_acde48001122row1_col4\" class=\"data row1 col4\" >bos</td>\n",
       "                        <td id=\"T_bacbb662_21de_11eb_aed1_acde48001122row1_col5\" class=\"data row1 col5\" >115</td>\n",
       "                        <td id=\"T_bacbb662_21de_11eb_aed1_acde48001122row1_col6\" class=\"data row1 col6\" ></td>\n",
       "                        <td id=\"T_bacbb662_21de_11eb_aed1_acde48001122row1_col7\" class=\"data row1 col7\" >Preseason</td>\n",
       "                        <td id=\"T_bacbb662_21de_11eb_aed1_acde48001122row1_col8\" class=\"data row1 col8\" >2019</td>\n",
       "            </tr>\n",
       "            <tr>\n",
       "                                <td id=\"T_bacbb662_21de_11eb_aed1_acde48001122row2_col0\" class=\"data row2 col0\" >cle</td>\n",
       "                        <td id=\"T_bacbb662_21de_11eb_aed1_acde48001122row2_col1\" class=\"data row2 col1\" >102</td>\n",
       "                        <td id=\"T_bacbb662_21de_11eb_aed1_acde48001122row2_col2\" class=\"data row2 col2\" >Tue, Oct 2</td>\n",
       "                        <td id=\"T_bacbb662_21de_11eb_aed1_acde48001122row2_col3\" class=\"data row2 col3\" >401077249</td>\n",
       "                        <td id=\"T_bacbb662_21de_11eb_aed1_acde48001122row2_col4\" class=\"data row2 col4\" >bos</td>\n",
       "                        <td id=\"T_bacbb662_21de_11eb_aed1_acde48001122row2_col5\" class=\"data row2 col5\" >95</td>\n",
       "                        <td id=\"T_bacbb662_21de_11eb_aed1_acde48001122row2_col6\" class=\"data row2 col6\" ></td>\n",
       "                        <td id=\"T_bacbb662_21de_11eb_aed1_acde48001122row2_col7\" class=\"data row2 col7\" >Preseason</td>\n",
       "                        <td id=\"T_bacbb662_21de_11eb_aed1_acde48001122row2_col8\" class=\"data row2 col8\" >2019</td>\n",
       "            </tr>\n",
       "            <tr>\n",
       "                                <td id=\"T_bacbb662_21de_11eb_aed1_acde48001122row3_col0\" class=\"data row3 col0\" >bos</td>\n",
       "                        <td id=\"T_bacbb662_21de_11eb_aed1_acde48001122row3_col1\" class=\"data row3 col1\" >102</td>\n",
       "                        <td id=\"T_bacbb662_21de_11eb_aed1_acde48001122row3_col2\" class=\"data row3 col2\" >Sat, Oct 6</td>\n",
       "                        <td id=\"T_bacbb662_21de_11eb_aed1_acde48001122row3_col3\" class=\"data row3 col3\" >401077272</td>\n",
       "                        <td id=\"T_bacbb662_21de_11eb_aed1_acde48001122row3_col4\" class=\"data row3 col4\" >cle</td>\n",
       "                        <td id=\"T_bacbb662_21de_11eb_aed1_acde48001122row3_col5\" class=\"data row3 col5\" >113</td>\n",
       "                        <td id=\"T_bacbb662_21de_11eb_aed1_acde48001122row3_col6\" class=\"data row3 col6\" ></td>\n",
       "                        <td id=\"T_bacbb662_21de_11eb_aed1_acde48001122row3_col7\" class=\"data row3 col7\" >Preseason</td>\n",
       "                        <td id=\"T_bacbb662_21de_11eb_aed1_acde48001122row3_col8\" class=\"data row3 col8\" >2019</td>\n",
       "            </tr>\n",
       "            <tr>\n",
       "                                <td id=\"T_bacbb662_21de_11eb_aed1_acde48001122row4_col0\" class=\"data row4 col0\" >phi</td>\n",
       "                        <td id=\"T_bacbb662_21de_11eb_aed1_acde48001122row4_col1\" class=\"data row4 col1\" >87</td>\n",
       "                        <td id=\"T_bacbb662_21de_11eb_aed1_acde48001122row4_col2\" class=\"data row4 col2\" >Tue, Oct 16</td>\n",
       "                        <td id=\"T_bacbb662_21de_11eb_aed1_acde48001122row4_col3\" class=\"data row4 col3\" >401070213</td>\n",
       "                        <td id=\"T_bacbb662_21de_11eb_aed1_acde48001122row4_col4\" class=\"data row4 col4\" >bos</td>\n",
       "                        <td id=\"T_bacbb662_21de_11eb_aed1_acde48001122row4_col5\" class=\"data row4 col5\" >105</td>\n",
       "                        <td id=\"T_bacbb662_21de_11eb_aed1_acde48001122row4_col6\" class=\"data row4 col6\" ></td>\n",
       "                        <td id=\"T_bacbb662_21de_11eb_aed1_acde48001122row4_col7\" class=\"data row4 col7\" >Regular Season</td>\n",
       "                        <td id=\"T_bacbb662_21de_11eb_aed1_acde48001122row4_col8\" class=\"data row4 col8\" >2019</td>\n",
       "            </tr>\n",
       "    </tbody></table>"
      ],
      "text/plain": [
       "<pandas.io.formats.style.Styler at 0x7fbc503cb650>"
      ]
     },
     "execution_count": 10,
     "metadata": {},
     "output_type": "execute_result"
    }
   ],
   "source": [
    "espn.schedule('nba','bos','2019').head().style.hide_index()"
   ]
  },
  {
   "cell_type": "markdown",
   "metadata": {},
   "source": [
    "Generate a dictionary of game information from a given league and game_id"
   ]
  },
  {
   "cell_type": "code",
   "execution_count": 13,
   "metadata": {
    "scrolled": true
   },
   "outputs": [
    {
     "data": {
      "text/plain": [
       "{'game_id': '401077234',\n",
       " 'datetime': '2018-09-28T23:30Z',\n",
       " 'network': 'Coverage: NBATV',\n",
       " 'attendance': '18,081',\n",
       " 'capacity': '21,572',\n",
       " 'location': 'Chapel Hill, NC',\n",
       " 'venue': 'Dean E. Smith Center'}"
      ]
     },
     "execution_count": 13,
     "metadata": {},
     "output_type": "execute_result"
    }
   ],
   "source": [
    "espn.game_information('nba','401077234')"
   ]
  },
  {
   "cell_type": "code",
   "execution_count": 14,
   "metadata": {},
   "outputs": [
    {
     "ename": "UnboundLocalError",
     "evalue": "local variable 'df' referenced before assignment",
     "output_type": "error",
     "traceback": [
      "\u001b[0;31m---------------------------------------------------------------------------\u001b[0m",
      "\u001b[0;31mUnboundLocalError\u001b[0m                         Traceback (most recent call last)",
      "\u001b[0;32m<ipython-input-14-89aab07bddaf>\u001b[0m in \u001b[0;36m<module>\u001b[0;34m\u001b[0m\n\u001b[0;32m----> 1\u001b[0;31m \u001b[0mespn\u001b[0m\u001b[0;34m.\u001b[0m\u001b[0mroster\u001b[0m\u001b[0;34m(\u001b[0m\u001b[0;34m'nba'\u001b[0m\u001b[0;34m,\u001b[0m\u001b[0;34m'bos'\u001b[0m\u001b[0;34m)\u001b[0m\u001b[0;34m\u001b[0m\u001b[0;34m\u001b[0m\u001b[0m\n\u001b[0m",
      "\u001b[0;32m/opt/anaconda3/lib/python3.7/site-packages/sport_scraper/base/__init__.py\u001b[0m in \u001b[0;36mroster\u001b[0;34m(self, league, team)\u001b[0m\n\u001b[1;32m    274\u001b[0m                             ].string\n\u001b[1;32m    275\u001b[0m \u001b[0;34m\u001b[0m\u001b[0m\n\u001b[0;32m--> 276\u001b[0;31m                 \u001b[0mdf\u001b[0m \u001b[0;34m=\u001b[0m \u001b[0mdf\u001b[0m\u001b[0;34m.\u001b[0m\u001b[0mappend\u001b[0m\u001b[0;34m(\u001b[0m\u001b[0mpd\u001b[0m\u001b[0;34m.\u001b[0m\u001b[0mSeries\u001b[0m\u001b[0;34m(\u001b[0m\u001b[0mrecord\u001b[0m\u001b[0;34m)\u001b[0m\u001b[0;34m,\u001b[0m \u001b[0mignore_index\u001b[0m\u001b[0;34m=\u001b[0m\u001b[0;32mTrue\u001b[0m\u001b[0;34m)\u001b[0m\u001b[0;34m\u001b[0m\u001b[0;34m\u001b[0m\u001b[0m\n\u001b[0m\u001b[1;32m    277\u001b[0m \u001b[0;34m\u001b[0m\u001b[0m\n\u001b[1;32m    278\u001b[0m         \u001b[0;32mreturn\u001b[0m \u001b[0mdf\u001b[0m\u001b[0;34m\u001b[0m\u001b[0;34m\u001b[0m\u001b[0m\n",
      "\u001b[0;31mUnboundLocalError\u001b[0m: local variable 'df' referenced before assignment"
     ]
    }
   ],
   "source": [
    "espn.roster('nba','bos')"
   ]
  }
 ],
 "metadata": {
  "kernelspec": {
   "display_name": "Python 3",
   "language": "python",
   "name": "python3"
  },
  "language_info": {
   "codemirror_mode": {
    "name": "ipython",
    "version": 3
   },
   "file_extension": ".py",
   "mimetype": "text/x-python",
   "name": "python",
   "nbconvert_exporter": "python",
   "pygments_lexer": "ipython3",
   "version": "3.7.4"
  }
 },
 "nbformat": 4,
 "nbformat_minor": 2
}
