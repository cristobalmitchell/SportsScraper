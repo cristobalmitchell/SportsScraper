{
 "cells": [
  {
   "cell_type": "markdown",
   "metadata": {},
   "source": [
    "# Install Sports Scraper"
   ]
  },
  {
   "cell_type": "code",
   "execution_count": null,
   "metadata": {},
   "outputs": [],
   "source": [
    "!pip install sport_scraper"
   ]
  },
  {
   "cell_type": "markdown",
   "metadata": {},
   "source": [
    "# Quick Start\n",
    "Import library and instantiate SportScraper object"
   ]
  },
  {
   "cell_type": "code",
   "execution_count": 1,
   "metadata": {},
   "outputs": [],
   "source": [
    "from sport_scraper import SportScraper\n",
    "espn = SportScraper()"
   ]
  },
  {
   "cell_type": "markdown",
   "metadata": {},
   "source": [
    "Generate a list of leagues available using **leagues()**"
   ]
  },
  {
   "cell_type": "code",
   "execution_count": 2,
   "metadata": {},
   "outputs": [
    {
     "data": {
      "text/plain": [
       "['nfl',\n",
       " 'mlb',\n",
       " 'nba',\n",
       " 'nhl',\n",
       " 'college-football',\n",
       " 'mens-college-basketball',\n",
       " 'golf',\n",
       " 'racing',\n",
       " 'xgames']"
      ]
     },
     "execution_count": 2,
     "metadata": {},
     "output_type": "execute_result"
    }
   ],
   "source": [
    "espn.leagues()"
   ]
  },
  {
   "cell_type": "markdown",
   "metadata": {},
   "source": [
    "Generate a dataframe of teams for a given league using **teams(league)**"
   ]
  },
  {
   "cell_type": "code",
   "execution_count": 3,
   "metadata": {
    "scrolled": false
   },
   "outputs": [
    {
     "data": {
      "text/html": [
       "<style  type=\"text/css\" >\n",
       "</style><table id=\"T_5aa38cc0_21e2_11eb_ae3a_acde48001122\" ><thead>    <tr>        <th class=\"col_heading level0 col0\" >team</th>        <th class=\"col_heading level0 col1\" >url</th>        <th class=\"col_heading level0 col2\" >prefix_2</th>        <th class=\"col_heading level0 col3\" >prefix_1</th>        <th class=\"col_heading level0 col4\" >league</th>        <th class=\"col_heading level0 col5\" >division</th>    </tr></thead><tbody>\n",
       "                <tr>\n",
       "                                <td id=\"T_5aa38cc0_21e2_11eb_ae3a_acde48001122row0_col0\" class=\"data row0 col0\" >Cincinnati Bearcats</td>\n",
       "                        <td id=\"T_5aa38cc0_21e2_11eb_ae3a_acde48001122row0_col1\" class=\"data row0 col1\" >http://www.espn.com/college-football/team/_/id/2132/cincinnati-bearcats</td>\n",
       "                        <td id=\"T_5aa38cc0_21e2_11eb_ae3a_acde48001122row0_col2\" class=\"data row0 col2\" >cincinnati-bearcats</td>\n",
       "                        <td id=\"T_5aa38cc0_21e2_11eb_ae3a_acde48001122row0_col3\" class=\"data row0 col3\" >2132</td>\n",
       "                        <td id=\"T_5aa38cc0_21e2_11eb_ae3a_acde48001122row0_col4\" class=\"data row0 col4\" >college-football</td>\n",
       "                        <td id=\"T_5aa38cc0_21e2_11eb_ae3a_acde48001122row0_col5\" class=\"data row0 col5\" >American</td>\n",
       "            </tr>\n",
       "            <tr>\n",
       "                                <td id=\"T_5aa38cc0_21e2_11eb_ae3a_acde48001122row1_col0\" class=\"data row1 col0\" >East Carolina Pirates</td>\n",
       "                        <td id=\"T_5aa38cc0_21e2_11eb_ae3a_acde48001122row1_col1\" class=\"data row1 col1\" >http://www.espn.com/college-football/team/_/id/151/east-carolina-pirates</td>\n",
       "                        <td id=\"T_5aa38cc0_21e2_11eb_ae3a_acde48001122row1_col2\" class=\"data row1 col2\" >east-carolina-pirates</td>\n",
       "                        <td id=\"T_5aa38cc0_21e2_11eb_ae3a_acde48001122row1_col3\" class=\"data row1 col3\" >151</td>\n",
       "                        <td id=\"T_5aa38cc0_21e2_11eb_ae3a_acde48001122row1_col4\" class=\"data row1 col4\" >college-football</td>\n",
       "                        <td id=\"T_5aa38cc0_21e2_11eb_ae3a_acde48001122row1_col5\" class=\"data row1 col5\" >American</td>\n",
       "            </tr>\n",
       "            <tr>\n",
       "                                <td id=\"T_5aa38cc0_21e2_11eb_ae3a_acde48001122row2_col0\" class=\"data row2 col0\" >Houston Cougars</td>\n",
       "                        <td id=\"T_5aa38cc0_21e2_11eb_ae3a_acde48001122row2_col1\" class=\"data row2 col1\" >http://www.espn.com/college-football/team/_/id/248/houston-cougars</td>\n",
       "                        <td id=\"T_5aa38cc0_21e2_11eb_ae3a_acde48001122row2_col2\" class=\"data row2 col2\" >houston-cougars</td>\n",
       "                        <td id=\"T_5aa38cc0_21e2_11eb_ae3a_acde48001122row2_col3\" class=\"data row2 col3\" >248</td>\n",
       "                        <td id=\"T_5aa38cc0_21e2_11eb_ae3a_acde48001122row2_col4\" class=\"data row2 col4\" >college-football</td>\n",
       "                        <td id=\"T_5aa38cc0_21e2_11eb_ae3a_acde48001122row2_col5\" class=\"data row2 col5\" >American</td>\n",
       "            </tr>\n",
       "            <tr>\n",
       "                                <td id=\"T_5aa38cc0_21e2_11eb_ae3a_acde48001122row3_col0\" class=\"data row3 col0\" >Memphis Tigers</td>\n",
       "                        <td id=\"T_5aa38cc0_21e2_11eb_ae3a_acde48001122row3_col1\" class=\"data row3 col1\" >http://www.espn.com/college-football/team/_/id/235/memphis-tigers</td>\n",
       "                        <td id=\"T_5aa38cc0_21e2_11eb_ae3a_acde48001122row3_col2\" class=\"data row3 col2\" >memphis-tigers</td>\n",
       "                        <td id=\"T_5aa38cc0_21e2_11eb_ae3a_acde48001122row3_col3\" class=\"data row3 col3\" >235</td>\n",
       "                        <td id=\"T_5aa38cc0_21e2_11eb_ae3a_acde48001122row3_col4\" class=\"data row3 col4\" >college-football</td>\n",
       "                        <td id=\"T_5aa38cc0_21e2_11eb_ae3a_acde48001122row3_col5\" class=\"data row3 col5\" >American</td>\n",
       "            </tr>\n",
       "            <tr>\n",
       "                                <td id=\"T_5aa38cc0_21e2_11eb_ae3a_acde48001122row4_col0\" class=\"data row4 col0\" >Navy Midshipmen</td>\n",
       "                        <td id=\"T_5aa38cc0_21e2_11eb_ae3a_acde48001122row4_col1\" class=\"data row4 col1\" >http://www.espn.com/college-football/team/_/id/2426/navy-midshipmen</td>\n",
       "                        <td id=\"T_5aa38cc0_21e2_11eb_ae3a_acde48001122row4_col2\" class=\"data row4 col2\" >navy-midshipmen</td>\n",
       "                        <td id=\"T_5aa38cc0_21e2_11eb_ae3a_acde48001122row4_col3\" class=\"data row4 col3\" >2426</td>\n",
       "                        <td id=\"T_5aa38cc0_21e2_11eb_ae3a_acde48001122row4_col4\" class=\"data row4 col4\" >college-football</td>\n",
       "                        <td id=\"T_5aa38cc0_21e2_11eb_ae3a_acde48001122row4_col5\" class=\"data row4 col5\" >American</td>\n",
       "            </tr>\n",
       "    </tbody></table>"
      ],
      "text/plain": [
       "<pandas.io.formats.style.Styler at 0x7fd650802450>"
      ]
     },
     "execution_count": 3,
     "metadata": {},
     "output_type": "execute_result"
    }
   ],
   "source": [
    "espn.teams('college-football').head().style.hide_index()"
   ]
  },
  {
   "cell_type": "markdown",
   "metadata": {},
   "source": [
    "**NOTE:** _prefix_1_ should be used for all references to \"team\" in subsequent methods for example using **roster(league,team)**: \n",
    "* roster('college-football','2132') for Cincinnati Bearcats \n",
    "* roster('nhl','bos') for Boston Bruins"
   ]
  },
  {
   "cell_type": "markdown",
   "metadata": {},
   "source": [
    "Generate a schedule of games for a given league, team, and year using **schedule(league,team,year)**"
   ]
  },
  {
   "cell_type": "code",
   "execution_count": 5,
   "metadata": {
    "scrolled": false
   },
   "outputs": [
    {
     "data": {
      "text/html": [
       "<style  type=\"text/css\" >\n",
       "</style><table id=\"T_5d51bda2_21e2_11eb_ae3a_acde48001122\" ><thead>    <tr>        <th class=\"col_heading level0 col0\" >away_team</th>        <th class=\"col_heading level0 col1\" >away_team_score</th>        <th class=\"col_heading level0 col2\" >date</th>        <th class=\"col_heading level0 col3\" >game_id</th>        <th class=\"col_heading level0 col4\" >home_team</th>        <th class=\"col_heading level0 col5\" >home_team_score</th>        <th class=\"col_heading level0 col6\" >note</th>        <th class=\"col_heading level0 col7\" >season</th>        <th class=\"col_heading level0 col8\" >year</th>    </tr></thead><tbody>\n",
       "                <tr>\n",
       "                                <td id=\"T_5d51bda2_21e2_11eb_ae3a_acde48001122row0_col0\" class=\"data row0 col0\" >26</td>\n",
       "                        <td id=\"T_5d51bda2_21e2_11eb_ae3a_acde48001122row0_col1\" class=\"data row0 col1\" >14</td>\n",
       "                        <td id=\"T_5d51bda2_21e2_11eb_ae3a_acde48001122row0_col2\" class=\"data row0 col2\" >Thu, Aug 29</td>\n",
       "                        <td id=\"T_5d51bda2_21e2_11eb_ae3a_acde48001122row0_col3\" class=\"data row0 col3\" >401117854</td>\n",
       "                        <td id=\"T_5d51bda2_21e2_11eb_ae3a_acde48001122row0_col4\" class=\"data row0 col4\" >2132</td>\n",
       "                        <td id=\"T_5d51bda2_21e2_11eb_ae3a_acde48001122row0_col5\" class=\"data row0 col5\" >24</td>\n",
       "                        <td id=\"T_5d51bda2_21e2_11eb_ae3a_acde48001122row0_col6\" class=\"data row0 col6\" ></td>\n",
       "                        <td id=\"T_5d51bda2_21e2_11eb_ae3a_acde48001122row0_col7\" class=\"data row0 col7\" >Regular Season</td>\n",
       "                        <td id=\"T_5d51bda2_21e2_11eb_ae3a_acde48001122row0_col8\" class=\"data row0 col8\" >2019</td>\n",
       "            </tr>\n",
       "            <tr>\n",
       "                                <td id=\"T_5d51bda2_21e2_11eb_ae3a_acde48001122row1_col0\" class=\"data row1 col0\" >2132</td>\n",
       "                        <td id=\"T_5d51bda2_21e2_11eb_ae3a_acde48001122row1_col1\" class=\"data row1 col1\" >0</td>\n",
       "                        <td id=\"T_5d51bda2_21e2_11eb_ae3a_acde48001122row1_col2\" class=\"data row1 col2\" >Sat, Sep 7</td>\n",
       "                        <td id=\"T_5d51bda2_21e2_11eb_ae3a_acde48001122row1_col3\" class=\"data row1 col3\" >401112252</td>\n",
       "                        <td id=\"T_5d51bda2_21e2_11eb_ae3a_acde48001122row1_col4\" class=\"data row1 col4\" >194</td>\n",
       "                        <td id=\"T_5d51bda2_21e2_11eb_ae3a_acde48001122row1_col5\" class=\"data row1 col5\" >42</td>\n",
       "                        <td id=\"T_5d51bda2_21e2_11eb_ae3a_acde48001122row1_col6\" class=\"data row1 col6\" ></td>\n",
       "                        <td id=\"T_5d51bda2_21e2_11eb_ae3a_acde48001122row1_col7\" class=\"data row1 col7\" >Regular Season</td>\n",
       "                        <td id=\"T_5d51bda2_21e2_11eb_ae3a_acde48001122row1_col8\" class=\"data row1 col8\" >2019</td>\n",
       "            </tr>\n",
       "            <tr>\n",
       "                                <td id=\"T_5d51bda2_21e2_11eb_ae3a_acde48001122row2_col0\" class=\"data row2 col0\" >193</td>\n",
       "                        <td id=\"T_5d51bda2_21e2_11eb_ae3a_acde48001122row2_col1\" class=\"data row2 col1\" >13</td>\n",
       "                        <td id=\"T_5d51bda2_21e2_11eb_ae3a_acde48001122row2_col2\" class=\"data row2 col2\" >Sat, Sep 14</td>\n",
       "                        <td id=\"T_5d51bda2_21e2_11eb_ae3a_acde48001122row2_col3\" class=\"data row2 col3\" >401117863</td>\n",
       "                        <td id=\"T_5d51bda2_21e2_11eb_ae3a_acde48001122row2_col4\" class=\"data row2 col4\" >2132</td>\n",
       "                        <td id=\"T_5d51bda2_21e2_11eb_ae3a_acde48001122row2_col5\" class=\"data row2 col5\" >35</td>\n",
       "                        <td id=\"T_5d51bda2_21e2_11eb_ae3a_acde48001122row2_col6\" class=\"data row2 col6\" ></td>\n",
       "                        <td id=\"T_5d51bda2_21e2_11eb_ae3a_acde48001122row2_col7\" class=\"data row2 col7\" >Regular Season</td>\n",
       "                        <td id=\"T_5d51bda2_21e2_11eb_ae3a_acde48001122row2_col8\" class=\"data row2 col8\" >2019</td>\n",
       "            </tr>\n",
       "            <tr>\n",
       "                                <td id=\"T_5d51bda2_21e2_11eb_ae3a_acde48001122row3_col0\" class=\"data row3 col0\" >2132</td>\n",
       "                        <td id=\"T_5d51bda2_21e2_11eb_ae3a_acde48001122row3_col1\" class=\"data row3 col1\" >52</td>\n",
       "                        <td id=\"T_5d51bda2_21e2_11eb_ae3a_acde48001122row3_col2\" class=\"data row3 col2\" >Sat, Sep 28</td>\n",
       "                        <td id=\"T_5d51bda2_21e2_11eb_ae3a_acde48001122row3_col3\" class=\"data row3 col3\" >401114269</td>\n",
       "                        <td id=\"T_5d51bda2_21e2_11eb_ae3a_acde48001122row3_col4\" class=\"data row3 col4\" >276</td>\n",
       "                        <td id=\"T_5d51bda2_21e2_11eb_ae3a_acde48001122row3_col5\" class=\"data row3 col5\" >14</td>\n",
       "                        <td id=\"T_5d51bda2_21e2_11eb_ae3a_acde48001122row3_col6\" class=\"data row3 col6\" ></td>\n",
       "                        <td id=\"T_5d51bda2_21e2_11eb_ae3a_acde48001122row3_col7\" class=\"data row3 col7\" >Regular Season</td>\n",
       "                        <td id=\"T_5d51bda2_21e2_11eb_ae3a_acde48001122row3_col8\" class=\"data row3 col8\" >2019</td>\n",
       "            </tr>\n",
       "            <tr>\n",
       "                                <td id=\"T_5d51bda2_21e2_11eb_ae3a_acde48001122row4_col0\" class=\"data row4 col0\" >2116</td>\n",
       "                        <td id=\"T_5d51bda2_21e2_11eb_ae3a_acde48001122row4_col1\" class=\"data row4 col1\" >24</td>\n",
       "                        <td id=\"T_5d51bda2_21e2_11eb_ae3a_acde48001122row4_col2\" class=\"data row4 col2\" >Fri, Oct 4</td>\n",
       "                        <td id=\"T_5d51bda2_21e2_11eb_ae3a_acde48001122row4_col3\" class=\"data row4 col3\" >401117875</td>\n",
       "                        <td id=\"T_5d51bda2_21e2_11eb_ae3a_acde48001122row4_col4\" class=\"data row4 col4\" >2132</td>\n",
       "                        <td id=\"T_5d51bda2_21e2_11eb_ae3a_acde48001122row4_col5\" class=\"data row4 col5\" >27</td>\n",
       "                        <td id=\"T_5d51bda2_21e2_11eb_ae3a_acde48001122row4_col6\" class=\"data row4 col6\" ></td>\n",
       "                        <td id=\"T_5d51bda2_21e2_11eb_ae3a_acde48001122row4_col7\" class=\"data row4 col7\" >Regular Season</td>\n",
       "                        <td id=\"T_5d51bda2_21e2_11eb_ae3a_acde48001122row4_col8\" class=\"data row4 col8\" >2019</td>\n",
       "            </tr>\n",
       "    </tbody></table>"
      ],
      "text/plain": [
       "<pandas.io.formats.style.Styler at 0x7fd691432710>"
      ]
     },
     "execution_count": 5,
     "metadata": {},
     "output_type": "execute_result"
    }
   ],
   "source": [
    "espn.schedule('college-football','2132','2019').head().style.hide_index()"
   ]
  },
  {
   "cell_type": "markdown",
   "metadata": {},
   "source": [
    "Generate a dictionary of game information from a given league and game_id using **game_information(league,game_id)**"
   ]
  },
  {
   "cell_type": "code",
   "execution_count": 9,
   "metadata": {
    "scrolled": true
   },
   "outputs": [
    {
     "data": {
      "text/plain": [
       "{'game_id': '401049530',\n",
       " 'datetime': '2:30 AM, September 15, 2018',\n",
       " 'network': '',\n",
       " 'attendance': '',\n",
       " 'capacity': '',\n",
       " 'location': '',\n",
       " 'venue': ''}"
      ]
     },
     "execution_count": 9,
     "metadata": {},
     "output_type": "execute_result"
    }
   ],
   "source": [
    "espn.game_information('nhl','401049530')"
   ]
  },
  {
   "cell_type": "markdown",
   "metadata": {},
   "source": [
    "Generate a dataframe of the current roster for a given league and team using **roster(league,team)**"
   ]
  },
  {
   "cell_type": "code",
   "execution_count": 11,
   "metadata": {
    "scrolled": false
   },
   "outputs": [
    {
     "data": {
      "text/html": [
       "<style  type=\"text/css\" >\n",
       "</style><table id=\"T_7b76afa4_21e2_11eb_ae3a_acde48001122\" ><thead>    <tr>        <th class=\"col_heading level0 col0\" >height</th>        <th class=\"col_heading level0 col1\" >name</th>        <th class=\"col_heading level0 col2\" >position</th>        <th class=\"col_heading level0 col3\" >weight</th>    </tr></thead><tbody>\n",
       "                <tr>\n",
       "                                <td id=\"T_7b76afa4_21e2_11eb_ae3a_acde48001122row0_col0\" class=\"data row0 col0\" >6' 6\"</td>\n",
       "                        <td id=\"T_7b76afa4_21e2_11eb_ae3a_acde48001122row0_col1\" class=\"data row0 col1\" >Jaylen Brown</td>\n",
       "                        <td id=\"T_7b76afa4_21e2_11eb_ae3a_acde48001122row0_col2\" class=\"data row0 col2\" >SG</td>\n",
       "                        <td id=\"T_7b76afa4_21e2_11eb_ae3a_acde48001122row0_col3\" class=\"data row0 col3\" >223 lbs</td>\n",
       "            </tr>\n",
       "            <tr>\n",
       "                                <td id=\"T_7b76afa4_21e2_11eb_ae3a_acde48001122row1_col0\" class=\"data row1 col0\" >5' 11\"</td>\n",
       "                        <td id=\"T_7b76afa4_21e2_11eb_ae3a_acde48001122row1_col1\" class=\"data row1 col1\" >Carsen Edwards</td>\n",
       "                        <td id=\"T_7b76afa4_21e2_11eb_ae3a_acde48001122row1_col2\" class=\"data row1 col2\" >PG</td>\n",
       "                        <td id=\"T_7b76afa4_21e2_11eb_ae3a_acde48001122row1_col3\" class=\"data row1 col3\" >200 lbs</td>\n",
       "            </tr>\n",
       "            <tr>\n",
       "                                <td id=\"T_7b76afa4_21e2_11eb_ae3a_acde48001122row2_col0\" class=\"data row2 col0\" >7' 5\"</td>\n",
       "                        <td id=\"T_7b76afa4_21e2_11eb_ae3a_acde48001122row2_col1\" class=\"data row2 col1\" >Tacko Fall</td>\n",
       "                        <td id=\"T_7b76afa4_21e2_11eb_ae3a_acde48001122row2_col2\" class=\"data row2 col2\" >C</td>\n",
       "                        <td id=\"T_7b76afa4_21e2_11eb_ae3a_acde48001122row2_col3\" class=\"data row2 col3\" >311 lbs</td>\n",
       "            </tr>\n",
       "            <tr>\n",
       "                                <td id=\"T_7b76afa4_21e2_11eb_ae3a_acde48001122row3_col0\" class=\"data row3 col0\" >6' 4\"</td>\n",
       "                        <td id=\"T_7b76afa4_21e2_11eb_ae3a_acde48001122row3_col1\" class=\"data row3 col1\" >Javonte Green</td>\n",
       "                        <td id=\"T_7b76afa4_21e2_11eb_ae3a_acde48001122row3_col2\" class=\"data row3 col2\" >SG</td>\n",
       "                        <td id=\"T_7b76afa4_21e2_11eb_ae3a_acde48001122row3_col3\" class=\"data row3 col3\" >205 lbs</td>\n",
       "            </tr>\n",
       "            <tr>\n",
       "                                <td id=\"T_7b76afa4_21e2_11eb_ae3a_acde48001122row4_col0\" class=\"data row4 col0\" >6' 7\"</td>\n",
       "                        <td id=\"T_7b76afa4_21e2_11eb_ae3a_acde48001122row4_col1\" class=\"data row4 col1\" >Gordon Hayward</td>\n",
       "                        <td id=\"T_7b76afa4_21e2_11eb_ae3a_acde48001122row4_col2\" class=\"data row4 col2\" >SF</td>\n",
       "                        <td id=\"T_7b76afa4_21e2_11eb_ae3a_acde48001122row4_col3\" class=\"data row4 col3\" >225 lbs</td>\n",
       "            </tr>\n",
       "            <tr>\n",
       "                                <td id=\"T_7b76afa4_21e2_11eb_ae3a_acde48001122row5_col0\" class=\"data row5 col0\" >6' 10\"</td>\n",
       "                        <td id=\"T_7b76afa4_21e2_11eb_ae3a_acde48001122row5_col1\" class=\"data row5 col1\" >Enes Kanter</td>\n",
       "                        <td id=\"T_7b76afa4_21e2_11eb_ae3a_acde48001122row5_col2\" class=\"data row5 col2\" >C</td>\n",
       "                        <td id=\"T_7b76afa4_21e2_11eb_ae3a_acde48001122row5_col3\" class=\"data row5 col3\" >250 lbs</td>\n",
       "            </tr>\n",
       "            <tr>\n",
       "                                <td id=\"T_7b76afa4_21e2_11eb_ae3a_acde48001122row6_col0\" class=\"data row6 col0\" >6' 4\"</td>\n",
       "                        <td id=\"T_7b76afa4_21e2_11eb_ae3a_acde48001122row6_col1\" class=\"data row6 col1\" >Romeo Langford</td>\n",
       "                        <td id=\"T_7b76afa4_21e2_11eb_ae3a_acde48001122row6_col2\" class=\"data row6 col2\" >SG</td>\n",
       "                        <td id=\"T_7b76afa4_21e2_11eb_ae3a_acde48001122row6_col3\" class=\"data row6 col3\" >216 lbs</td>\n",
       "            </tr>\n",
       "            <tr>\n",
       "                                <td id=\"T_7b76afa4_21e2_11eb_ae3a_acde48001122row7_col0\" class=\"data row7 col0\" >6' 6\"</td>\n",
       "                        <td id=\"T_7b76afa4_21e2_11eb_ae3a_acde48001122row7_col1\" class=\"data row7 col1\" >Semi Ojeleye</td>\n",
       "                        <td id=\"T_7b76afa4_21e2_11eb_ae3a_acde48001122row7_col2\" class=\"data row7 col2\" >PF</td>\n",
       "                        <td id=\"T_7b76afa4_21e2_11eb_ae3a_acde48001122row7_col3\" class=\"data row7 col3\" >240 lbs</td>\n",
       "            </tr>\n",
       "            <tr>\n",
       "                                <td id=\"T_7b76afa4_21e2_11eb_ae3a_acde48001122row8_col0\" class=\"data row8 col0\" >7' 0\"</td>\n",
       "                        <td id=\"T_7b76afa4_21e2_11eb_ae3a_acde48001122row8_col1\" class=\"data row8 col1\" >Vincent Poirier</td>\n",
       "                        <td id=\"T_7b76afa4_21e2_11eb_ae3a_acde48001122row8_col2\" class=\"data row8 col2\" >C</td>\n",
       "                        <td id=\"T_7b76afa4_21e2_11eb_ae3a_acde48001122row8_col3\" class=\"data row8 col3\" >235 lbs</td>\n",
       "            </tr>\n",
       "            <tr>\n",
       "                                <td id=\"T_7b76afa4_21e2_11eb_ae3a_acde48001122row9_col0\" class=\"data row9 col0\" >6' 3\"</td>\n",
       "                        <td id=\"T_7b76afa4_21e2_11eb_ae3a_acde48001122row9_col1\" class=\"data row9 col1\" >Marcus Smart</td>\n",
       "                        <td id=\"T_7b76afa4_21e2_11eb_ae3a_acde48001122row9_col2\" class=\"data row9 col2\" >PG</td>\n",
       "                        <td id=\"T_7b76afa4_21e2_11eb_ae3a_acde48001122row9_col3\" class=\"data row9 col3\" >220 lbs</td>\n",
       "            </tr>\n",
       "            <tr>\n",
       "                                <td id=\"T_7b76afa4_21e2_11eb_ae3a_acde48001122row10_col0\" class=\"data row10 col0\" >6' 8\"</td>\n",
       "                        <td id=\"T_7b76afa4_21e2_11eb_ae3a_acde48001122row10_col1\" class=\"data row10 col1\" >Jayson Tatum</td>\n",
       "                        <td id=\"T_7b76afa4_21e2_11eb_ae3a_acde48001122row10_col2\" class=\"data row10 col2\" >PF</td>\n",
       "                        <td id=\"T_7b76afa4_21e2_11eb_ae3a_acde48001122row10_col3\" class=\"data row10 col3\" >210 lbs</td>\n",
       "            </tr>\n",
       "            <tr>\n",
       "                                <td id=\"T_7b76afa4_21e2_11eb_ae3a_acde48001122row11_col0\" class=\"data row11 col0\" >6' 8\"</td>\n",
       "                        <td id=\"T_7b76afa4_21e2_11eb_ae3a_acde48001122row11_col1\" class=\"data row11 col1\" >Daniel Theis</td>\n",
       "                        <td id=\"T_7b76afa4_21e2_11eb_ae3a_acde48001122row11_col2\" class=\"data row11 col2\" >C</td>\n",
       "                        <td id=\"T_7b76afa4_21e2_11eb_ae3a_acde48001122row11_col3\" class=\"data row11 col3\" >245 lbs</td>\n",
       "            </tr>\n",
       "            <tr>\n",
       "                                <td id=\"T_7b76afa4_21e2_11eb_ae3a_acde48001122row12_col0\" class=\"data row12 col0\" >6' 0\"</td>\n",
       "                        <td id=\"T_7b76afa4_21e2_11eb_ae3a_acde48001122row12_col1\" class=\"data row12 col1\" >Kemba Walker</td>\n",
       "                        <td id=\"T_7b76afa4_21e2_11eb_ae3a_acde48001122row12_col2\" class=\"data row12 col2\" >PG</td>\n",
       "                        <td id=\"T_7b76afa4_21e2_11eb_ae3a_acde48001122row12_col3\" class=\"data row12 col3\" >184 lbs</td>\n",
       "            </tr>\n",
       "            <tr>\n",
       "                                <td id=\"T_7b76afa4_21e2_11eb_ae3a_acde48001122row13_col0\" class=\"data row13 col0\" >6' 3\"</td>\n",
       "                        <td id=\"T_7b76afa4_21e2_11eb_ae3a_acde48001122row13_col1\" class=\"data row13 col1\" >Brad Wanamaker</td>\n",
       "                        <td id=\"T_7b76afa4_21e2_11eb_ae3a_acde48001122row13_col2\" class=\"data row13 col2\" >PG</td>\n",
       "                        <td id=\"T_7b76afa4_21e2_11eb_ae3a_acde48001122row13_col3\" class=\"data row13 col3\" >210 lbs</td>\n",
       "            </tr>\n",
       "            <tr>\n",
       "                                <td id=\"T_7b76afa4_21e2_11eb_ae3a_acde48001122row14_col0\" class=\"data row14 col0\" >5' 10\"</td>\n",
       "                        <td id=\"T_7b76afa4_21e2_11eb_ae3a_acde48001122row14_col1\" class=\"data row14 col1\" >Tremont Waters</td>\n",
       "                        <td id=\"T_7b76afa4_21e2_11eb_ae3a_acde48001122row14_col2\" class=\"data row14 col2\" >PG</td>\n",
       "                        <td id=\"T_7b76afa4_21e2_11eb_ae3a_acde48001122row14_col3\" class=\"data row14 col3\" >175 lbs</td>\n",
       "            </tr>\n",
       "            <tr>\n",
       "                                <td id=\"T_7b76afa4_21e2_11eb_ae3a_acde48001122row15_col0\" class=\"data row15 col0\" >6' 6\"</td>\n",
       "                        <td id=\"T_7b76afa4_21e2_11eb_ae3a_acde48001122row15_col1\" class=\"data row15 col1\" >Grant Williams</td>\n",
       "                        <td id=\"T_7b76afa4_21e2_11eb_ae3a_acde48001122row15_col2\" class=\"data row15 col2\" >PF</td>\n",
       "                        <td id=\"T_7b76afa4_21e2_11eb_ae3a_acde48001122row15_col3\" class=\"data row15 col3\" >236 lbs</td>\n",
       "            </tr>\n",
       "            <tr>\n",
       "                                <td id=\"T_7b76afa4_21e2_11eb_ae3a_acde48001122row16_col0\" class=\"data row16 col0\" >6' 8\"</td>\n",
       "                        <td id=\"T_7b76afa4_21e2_11eb_ae3a_acde48001122row16_col1\" class=\"data row16 col1\" >Robert Williams III</td>\n",
       "                        <td id=\"T_7b76afa4_21e2_11eb_ae3a_acde48001122row16_col2\" class=\"data row16 col2\" >C</td>\n",
       "                        <td id=\"T_7b76afa4_21e2_11eb_ae3a_acde48001122row16_col3\" class=\"data row16 col3\" >237 lbs</td>\n",
       "            </tr>\n",
       "    </tbody></table>"
      ],
      "text/plain": [
       "<pandas.io.formats.style.Styler at 0x7fd660999150>"
      ]
     },
     "execution_count": 11,
     "metadata": {},
     "output_type": "execute_result"
    }
   ],
   "source": [
    "espn.roster('nba','bos').head().style.hide_index()"
   ]
  }
 ],
 "metadata": {
  "kernelspec": {
   "display_name": "Python 3",
   "language": "python",
   "name": "python3"
  },
  "language_info": {
   "codemirror_mode": {
    "name": "ipython",
    "version": 3
   },
   "file_extension": ".py",
   "mimetype": "text/x-python",
   "name": "python",
   "nbconvert_exporter": "python",
   "pygments_lexer": "ipython3",
   "version": "3.7.4"
  }
 },
 "nbformat": 4,
 "nbformat_minor": 2
}
